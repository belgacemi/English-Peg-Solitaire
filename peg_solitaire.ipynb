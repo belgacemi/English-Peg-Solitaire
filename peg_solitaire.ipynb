{
  "nbformat": 4,
  "nbformat_minor": 0,
  "metadata": {
    "colab": {
      "name": "peg solitaire.ipynb",
      "provenance": [],
      "collapsed_sections": []
    },
    "kernelspec": {
      "name": "python3",
      "display_name": "Python 3"
    }
  },
  "cells": [
    {
      "cell_type": "markdown",
      "metadata": {
        "id": "cM1Jg_W98UWv",
        "colab_type": "text"
      },
      "source": [
        "##Final Project : Discrete Optimisation- CS 2019\n",
        "## English Peg Solitaire\n",
        "### Iheb Belgacem\n",
        "\n",
        "In this project we want to find solutions for solvable peg solitaire games. \n",
        "The english version contains 33 cells. The goal is to find if there is a series of legal jumps that allows us to get from an initial configuration to a final configuration. </br>\n",
        "</br>\n",
        "                          ![Texte alternatif…](http://www.home.hs-karlsruhe.de/~pach0003/informatik_1/aufgaben/solitaer.jpg)\n",
        "                         \n",
        "As explained in the scientific article written by Masashi KIYOMI, Tomomi MATSUI from the university of Tokyo, the peg solitaire can be modeled by the following Mixed Integer Program : \n",
        "</br>\n",
        "$$\n",
        "\\begin{split}\n",
        "    IP1: & \\text{find} \\quad & (x^1, ... , x^l) &\\\\\n",
        "               & s.t.      &A(x^1+ ... + x^l) = p_s - p_f ,&\\\\\n",
        "               &            &0 \\le p_s - (x^1+ ... + x^k) \\le 1 , \\quad &\\forall k \\in \\{1, ..., l\\} \\\\\n",
        "               &            &x^k_1 + ... + x^k_m = 1 , \\quad           &\\forall k \\in \\{1, ..., l\\} \\\\\n",
        "               &            &x^k \\in \\{0,1\\}^m   & \\forall k \\\\\n",
        "\\end{split}\n",
        "$$\n",
        "</br>\n",
        "However solving this problem can take a lot of time, so we chose to implement the second method proposed by Kiomi and Matsui, which is based on a back-tracking search Algorithm. (see the solvprog function) </br>\n",
        "In order to prune the search space we used two different methods: \n",
        "1.    First of all, it's proven that there is an upper bound for how many times each jump j is used in the path to get from the intial to the final configuration. \n",
        "This upper band is the solution for the following MIP: </br>\n",
        "   $$\n",
        "   \\begin{split}\n",
        "       RUBj: & \\max. \\quad &x_j \\\\\n",
        "                  & s.t.                &Ax = p_s - p_f    \\\\\n",
        "                  && x = (x_1+ ...+ x_m) \\text{ non negative integers}\n",
        "   \\end{split}\n",
        "   $$\n",
        "We have used the solutions for this MIP (saved in an array) to prune the search space. \n",
        "If RUBj is unfeasible, the peg solitaire problem with the given intial and final configuration doesn't have any solution\n",
        "2.  We have also used  a hash table where we have stored every configuartion of the cells that have shown to lead to no solution in order to speed up the backtracking algorithm .(see sansissue and solvprog functions).\n",
        "\n",
        "</br>\n",
        "</br>\n",
        "We have chosen two ways to represent every configuration of the cells : the first one using a pandas dataframe (which is more pleasent visually) and the second one is an array. The cells are represented in this array in a logical order starting from the upper left of the game. Empty cells are represented by 0, the other ones are represented by the value one. </br>\n",
        "We have used to solve the MIP RUBj the OR-tools developped by Google. (see the solving function)"
      ]
    },
    {
      "cell_type": "code",
      "metadata": {
        "id": "XTp6kbWY0CP3",
        "colab_type": "code",
        "colab": {}
      },
      "source": [
        "import numpy as np\n",
        "import pandas as pd\n"
      ],
      "execution_count": 0,
      "outputs": []
    },
    {
      "cell_type": "code",
      "metadata": {
        "id": "A1iN_9GOCxfl",
        "colab_type": "code",
        "colab": {}
      },
      "source": [
        "#These functions help us to go from the coordinates of a cell in (x,y) to the corresponding coordinates in a 1D vector and vice versa\n",
        "def unravel (i):\n",
        "  if i<3:\n",
        "    (x,y)=(0,2+i)\n",
        "  elif i<6:\n",
        "    (x,y)=(1,i-1)\n",
        "  elif i<27:\n",
        "    (x,y)=(((i+1)//7)+1,((i+1)%7))\n",
        "  elif i<30:\n",
        "    (x,y)=(5,i-25)\n",
        "  else :\n",
        "    (x,y)=(6,i-28)\n",
        "  return (x,y)\n",
        "\n",
        "def ravel(a,b):\n",
        "  z=0\n",
        "  if a==0:\n",
        "    z=b-2\n",
        "  elif a==1:\n",
        "    z=b+1\n",
        "  elif a<5:\n",
        "    z=7*(a-1)+b-1\n",
        "  elif a==5:\n",
        "    z=25+b\n",
        "  else :\n",
        "    z=28+b\n",
        "  return z"
      ],
      "execution_count": 0,
      "outputs": []
    },
    {
      "cell_type": "code",
      "metadata": {
        "id": "i19RZW41-qNE",
        "colab_type": "code",
        "colab": {}
      },
      "source": [
        "#nb of cells\n",
        "nc=33\n",
        "p=np.zeros(nc)"
      ],
      "execution_count": 0,
      "outputs": []
    },
    {
      "cell_type": "code",
      "metadata": {
        "id": "tdQ_Z7XYZ5ph",
        "colab_type": "code",
        "colab": {}
      },
      "source": [
        "#This is an example for an intial and a final configuration.\n",
        "ps1=np.ones(33)\n",
        "ps1[16]=0\n",
        "pf1=np.ones(33)\n",
        "pf1[ravel(3,4)]=0\n",
        "pf1[ravel(4,5)]=0\n",
        "pf1[ravel(5,3)]=0\n",
        "pf1[ravel(5,4)]=0\n",
        "pf1[ravel(7,2)]=0\n",
        "pf1[ravel(7,3)]=0\n",
        "pf1[ravel(7,4)]=0\n",
        "\n",
        "\n"
      ],
      "execution_count": 0,
      "outputs": []
    },
    {
      "cell_type": "code",
      "metadata": {
        "id": "5oHk53k-aThZ",
        "colab_type": "code",
        "colab": {}
      },
      "source": [
        "# an empty cell is represented by 0, and a non-empty one with 1\n",
        "def afficher(ps):\n",
        "  sh=np.ones((7,7))\n",
        "  sh=2*sh\n",
        "  for i in range(len(ps)):\n",
        "    sh[unravel(i)[0]][unravel(i)[1]]=ps[i]\n",
        "    df=pd.DataFrame(sh)\n",
        "  df=df.replace([2],[\"\"])\n",
        "  print(df)"
      ],
      "execution_count": 0,
      "outputs": []
    },
    {
      "cell_type": "code",
      "metadata": {
        "id": "lqZO-uQ3jKWX",
        "colab_type": "code",
        "outputId": "fd61d8fa-8620-4e77-fdc6-4ecc4ba270db",
        "colab": {
          "base_uri": "https://localhost:8080/",
          "height": 289
        }
      },
      "source": [
        "afficher(ps1)\n",
        "afficher(pf1)"
      ],
      "execution_count": 0,
      "outputs": [
        {
          "output_type": "stream",
          "text": [
            "   0  1  2  3  4  5  6\n",
            "0        1  1  1      \n",
            "1        1  1  1      \n",
            "2  1  1  1  1  1  1  1\n",
            "3  1  1  1  0  1  1  1\n",
            "4  1  1  1  1  1  1  1\n",
            "5        1  1  1      \n",
            "6        1  1  1      \n",
            "   0  1  2  3  4  5  6\n",
            "0        1  1  1      \n",
            "1        1  1  1      \n",
            "2  1  1  1  1  1  1  1\n",
            "3  1  1  1  1  0  1  1\n",
            "4  1  1  1  1  1  0  1\n",
            "5        1  0  0      \n",
            "6        0  0  0      \n"
          ],
          "name": "stdout"
        }
      ]
    },
    {
      "cell_type": "code",
      "metadata": {
        "id": "67gLtiik_lEZ",
        "colab_type": "code",
        "colab": {}
      },
      "source": [
        "#Function that tells us if (a,b) are valid coordinates for our problem\n",
        "def yon(a,b):\n",
        "  test=True\n",
        "  if a<2 or a>4 :\n",
        "    if (b<2) or (b>4):\n",
        "      test=False\n",
        "  if a>6:\n",
        "    test=False\n",
        "  if a<0:\n",
        "    test=False\n",
        "  if b<0:\n",
        "    test=False\n",
        "  if b>6:\n",
        "    test=False\n",
        "  return test"
      ],
      "execution_count": 0,
      "outputs": []
    },
    {
      "cell_type": "code",
      "metadata": {
        "id": "J6hHw6mKG9Nh",
        "colab_type": "code",
        "colab": {}
      },
      "source": [
        "#Function that tells us if a certain type of moves is to be considered or not in our probem ( from example west(0,0) can never be a valid move)\n",
        "def down(a,b):\n",
        "  test=False\n",
        "  test= (yon (a,b) and yon(a+1,b) and yon(a+2,b))\n",
        "  return test\n",
        "\n",
        "def up(a,b):  \n",
        "  test=False\n",
        "  test= (yon (a,b) and yon(a-1,b) and yon(a-2,b))\n",
        "  return test\n",
        "\n",
        "def east(a,b):\n",
        "  test=False\n",
        "  test= (yon (a,b) and yon(a,b+1) and yon(a,b+2))\n",
        "  return test\n",
        "\n",
        "def west(a,b):\n",
        "  test=False\n",
        "  test= (yon (a,b) and yon(a,b-1) and yon(a,b-2))\n",
        "  return test"
      ],
      "execution_count": 0,
      "outputs": []
    },
    {
      "cell_type": "code",
      "metadata": {
        "id": "osfqbSJPEbkK",
        "colab_type": "code",
        "colab": {}
      },
      "source": [
        "dir=[1,2,3,4] #direction 1 is down, 2 is up, 3 is est , 4 is west\n",
        "r=np.linspace(0,32,33,dtype=int)\n",
        "#j contains all the different jumps\n",
        "j=[]\n",
        "for i in r:\n",
        "  if up(unravel(i)[0],unravel(i)[1]) :\n",
        "    j.append([i,2])\n",
        "  if down(unravel(i)[0],unravel(i)[1]) :\n",
        "    j.append([i,1])\n",
        "  if east(unravel(i)[0],unravel(i)[1]) :\n",
        "    j.append([i,3])\n",
        "  if west(unravel(i)[0],unravel(i)[1]) :\n",
        "    j.append([i,4])"
      ],
      "execution_count": 0,
      "outputs": []
    },
    {
      "cell_type": "code",
      "metadata": {
        "id": "cMczNQMhQ7bs",
        "colab_type": "code",
        "outputId": "57a4d8f8-6ea7-4080-a513-4301078ea29e",
        "colab": {
          "base_uri": "https://localhost:8080/",
          "height": 34
        }
      },
      "source": [
        "#Let's build the A matrix\n",
        "A=np.zeros((nc,len(j)))\n",
        "for t in range(len(j)):\n",
        "  if j[t][1]==1:#down\n",
        "    A[j[t][0]][t]=1\n",
        "    xy=unravel(j[t][0])\n",
        "    A[ravel(xy[0]+1,xy[1])][t]=1\n",
        "    A[ravel(xy[0]+2,xy[1])][t]=-1\n",
        "  if j[t][1]==2:#up\n",
        "    A[j[t][0]][t]=1\n",
        "    xy=unravel(j[t][0])\n",
        "    A[ravel(xy[0]-1,xy[1])][t]=1\n",
        "    A[ravel(xy[0]-2,xy[1])][t]=-1\n",
        "  if j[t][1]==3:#east\n",
        "    A[j[t][0]][t]=1\n",
        "    xy=unravel(j[t][0])\n",
        "    A[ravel(xy[0],xy[1]+1)][t]=1\n",
        "    A[ravel(xy[0],xy[1]+2)][t]=-1\n",
        "  if j[t][1]==4:#west\n",
        "    A[j[t][0]][t]=1\n",
        "    xy=unravel(j[t][0])\n",
        "    A[ravel(xy[0],xy[1]-1)][t]=1\n",
        "    A[ravel(xy[0],xy[1]-2)][t]=-1\n",
        "A.shape    "
      ],
      "execution_count": 0,
      "outputs": [
        {
          "output_type": "execute_result",
          "data": {
            "text/plain": [
              "(33, 76)"
            ]
          },
          "metadata": {
            "tags": []
          },
          "execution_count": 10
        }
      ]
    },
    {
      "cell_type": "code",
      "metadata": {
        "id": "TeBix_9tvyNC",
        "colab_type": "code",
        "outputId": "2f8e845c-6f19-44fa-e309-be3d1ed375ab",
        "colab": {
          "base_uri": "https://localhost:8080/",
          "height": 173
        }
      },
      "source": [
        "!pip3 install ortools"
      ],
      "execution_count": 0,
      "outputs": [
        {
          "output_type": "stream",
          "text": [
            "Collecting ortools\n",
            "\u001b[?25l  Downloading https://files.pythonhosted.org/packages/af/14/1aeb3e81912f624e5b157ed2d8c3c66306c8fffca0b49cd1ca8d4fdb31f8/ortools-7.1.6720-cp36-cp36m-manylinux1_x86_64.whl (27.1MB)\n",
            "\u001b[K     |████████████████████████████████| 27.1MB 42.7MB/s \n",
            "\u001b[?25hRequirement already satisfied: protobuf>=3.7.1 in /usr/local/lib/python3.6/dist-packages (from ortools) (3.7.1)\n",
            "Requirement already satisfied: six>=1.10 in /usr/local/lib/python3.6/dist-packages (from ortools) (1.12.0)\n",
            "Requirement already satisfied: setuptools in /usr/local/lib/python3.6/dist-packages (from protobuf>=3.7.1->ortools) (41.0.1)\n",
            "Installing collected packages: ortools\n",
            "Successfully installed ortools-7.1.6720\n"
          ],
          "name": "stdout"
        }
      ]
    },
    {
      "cell_type": "code",
      "metadata": {
        "id": "HIV85WEnv0gq",
        "colab_type": "code",
        "colab": {}
      },
      "source": [
        "from __future__ import print_function\n",
        "from ortools.linear_solver import pywraplp"
      ],
      "execution_count": 0,
      "outputs": []
    },
    {
      "cell_type": "code",
      "metadata": {
        "id": "YD_1iTt-v8Jd",
        "colab_type": "code",
        "colab": {}
      },
      "source": [
        "#With solving (and the following for loop ) we are going to build a table with the solutions of MIP that will help us prune the search space in the backtracking algorithm we are going to use later\n",
        "def solving(A,ps,pf,ind):\n",
        "  solver = pywraplp.Solver('upperbound',pywraplp.Solver.CBC_MIXED_INTEGER_PROGRAMMING)\n",
        "  infinity = solver.infinity()\n",
        "  jp={}\n",
        "  for i in range(A.shape[1]):\n",
        "    jp[i]=solver.IntVar(0.0, infinity,'jp[%i]' % i)\n",
        "  for i in range(A.shape[0]):\n",
        "    solver.Add(solver.Sum([A[i][j]*jp[j] for j in range(A.shape[1])]) == ps[i]-pf[i])\n",
        "  solver.Maximize(jp[ind])\n",
        "  result_status = solver.Solve()\n",
        "  return solver.Objective().Value()\n",
        "\n",
        "\n"
      ],
      "execution_count": 0,
      "outputs": []
    },
    {
      "cell_type": "code",
      "metadata": {
        "id": "NStj-h1v38bC",
        "colab_type": "code",
        "colab": {}
      },
      "source": [
        "upper=[]\n",
        "for i in range(A.shape[1]):\n",
        "  upper.append(solving(A,ps1,pf1,i))"
      ],
      "execution_count": 0,
      "outputs": []
    },
    {
      "cell_type": "code",
      "metadata": {
        "id": "It2oR2vp6LBM",
        "colab_type": "code",
        "outputId": "74f64670-0d77-4a57-af0b-d0f0776218cd",
        "colab": {
          "base_uri": "https://localhost:8080/",
          "height": 71
        }
      },
      "source": [
        "print(\"We are going to use the following table representing the upper bound for the number of times each jump is used to prune the search space from the backtracking algorithm\")\n",
        "print(upper)"
      ],
      "execution_count": 0,
      "outputs": [
        {
          "output_type": "stream",
          "text": [
            "We are going to use the following table representing the upper bound for the number of times each jump is used to prune the search space from the backtracking algorithm\n",
            "[0.0, 0.0, 0.0, 0.0, 0.0, 0.0, 0.0, 0.0, 0.0, 0.0, 0.0, 0.0, 0.0, 0.0, 0.0, 0.0, 0.0, 0.0, 0.0, 0.0, 0.0, 0.0, 0.0, 0.0, 0.0, 0.0, 0.0, 0.0, 0.0, 0.0, 0.0, 0.0, 0.0, 0.0, 0.0, 0.0, 0.0, 0.0, 0.0, 0.0, 0.0, 1.0, 0.0, 0.0, 0.0, 0.0, 0.0, 0.0, 0.0, 0.0, 0.0, 0.0, 0.0, 0.0, 0.0, 0.0, 0.0, 0.0, 0.0, 0.0, 0.0, 0.0, 0.0, 1.0, 0.0, 0.0, 0.0, 0.0, 1.0, 0.0, 0.0, 0.0, 1.0, 0.0, 2.0, 0.0]\n"
          ],
          "name": "stdout"
        }
      ]
    },
    {
      "cell_type": "code",
      "metadata": {
        "id": "OsYivUJEw_7r",
        "colab_type": "code",
        "colab": {}
      },
      "source": [
        "#resulmove helps us get the state of the game at n+1 given the state of the game at n and the jump to be done, reversemove does the opposite job\n",
        "def resulmov(A,pos,j,ind):\n",
        "  vect=np.zeros(len(j))\n",
        "  vect[ind]=1\n",
        "  pp=pos-np.dot(A,vect)\n",
        "  return pp\n",
        "def reversemove(A,pos,j,ind):\n",
        "  vect=np.zeros(len(j))\n",
        "  vect[ind]=1\n",
        "  pp=pos+np.dot(A,vect)\n",
        "  return pp\n"
      ],
      "execution_count": 0,
      "outputs": []
    },
    {
      "cell_type": "code",
      "metadata": {
        "id": "bC3ngssKt_iU",
        "colab_type": "code",
        "colab": {}
      },
      "source": [
        "#possible is a function that tells us if a jump is possible or not given the state of the game at n\n",
        "def possible(pos,jump):\n",
        "  p=pos\n",
        "  test=False\n",
        "  if jump[1]==1: #down\n",
        "    t1= (p[jump[0]]==1)\n",
        "    (a,b)=unravel(jump[0])\n",
        "    t2= (p[ravel(a+1,b)]==1)\n",
        "    t3= (p[ravel(a+2,b)]==0)\n",
        "    test=( t1 and t2 ) and t3\n",
        "  elif jump[1]==2 :#up\n",
        "    t1= (p[jump[0]]==1)\n",
        "    (a,b)=unravel(jump[0])\n",
        "    t2= (p[ravel(a-1,b)]==1)\n",
        "    t3= (p[ravel(a-2,b)]==0)\n",
        "    test=( t1 and t2 ) and t3\n",
        "  elif jump[1]==3 :#east\n",
        "    t1= (p[jump[0]]==1)\n",
        "    (a,b)=unravel(jump[0])\n",
        "    t2= (p[ravel(a,b+1)]==1)\n",
        "    t3= (p[ravel(a,b+2)]==0)\n",
        "    test=( t1 and t2 ) and t3\n",
        "  else:#west\n",
        "    t1= (p[jump[0]]==1)\n",
        "    (a,b)=unravel(jump[0])\n",
        "    t2= (p[ravel(a,b-1)]==1)\n",
        "    t3= (p[ravel(a,b-2)]==0)\n",
        "    test=( t1 and t2 ) and t3\n",
        "  return test"
      ],
      "execution_count": 0,
      "outputs": []
    },
    {
      "cell_type": "code",
      "metadata": {
        "id": "RuqJtHXmu-jW",
        "colab_type": "code",
        "colab": {}
      },
      "source": [
        "#This function helps us create the hash table we will use to speed up the back-tracking algorithm\n",
        "def sansissue(A,j,ind,ps,hashtable):\n",
        "  test=True\n",
        "  psp=resulmov(A,ps,j,ind)\n",
        "  if len(hashtable)>0:\n",
        "    for i in range(len(hashtable)):\n",
        "      if np.array_equal(psp,hashtable[i]):\n",
        "        test=False\n",
        "  return test\n",
        "  "
      ],
      "execution_count": 0,
      "outputs": []
    },
    {
      "cell_type": "code",
      "metadata": {
        "id": "cKy7thxL2Qm-",
        "colab_type": "code",
        "colab": {}
      },
      "source": [
        "#Backtracking algorithom to solve the game\n",
        "def solvprog(ps,pf,j,A,path,upper,nbusejump,hashtable):\n",
        "  if np.sum(ps)==np.sum(pf) :\n",
        "    afficher(pf)\n",
        "    if np.array_equal(ps,pf)==False:\n",
        "      hashtable.append(ps)\n",
        "    if np.array_equal(ps,pf)==True:\n",
        "      print(\"The problem is solvable and the path is\")\n",
        "      print(path)\n",
        "      print(\"The length of the path is :\")\n",
        "      print(len(path))\n",
        "    return np.array_equal(ps,pf)\n",
        "  else:\n",
        "    for i in range(len(j)):\n",
        "      test=sansissue(A,j,i,ps,hashtable)\n",
        "      if possible(ps,j[i]) and (nbusejump[i]<=upper[i]) and (upper[i]>0) and test:\n",
        "        print(\"path from\",unravel(j[i][0]), \"direction \", j[i][1])\n",
        "        pp=resulmov(A,ps,j,i)\n",
        "        afficher(pp)\n",
        "        ps=pp\n",
        "        path.append(j[i])\n",
        "        print(path)\n",
        "        nbusejump[i]=nbusejump[i]+1\n",
        "        found=solvprog(ps,pf,j,A,path,upper,nbusejump,hashtable)\n",
        "        if found :\n",
        "          return True\n",
        "          break\n",
        "        else:\n",
        "          print(\"go back\")\n",
        "          ps=reversemove(A,ps,j,i)\n",
        "          nbusejump[i]=nbusejump[i]-1\n",
        "          afficher(ps)\n",
        "          path.pop()\n",
        "    return False   \n",
        "        "
      ],
      "execution_count": 0,
      "outputs": []
    },
    {
      "cell_type": "code",
      "metadata": {
        "id": "TQcBVsblQ8R8",
        "colab_type": "code",
        "outputId": "71792985-f5c6-48d8-f02d-4ae94fa1f6a2",
        "colab": {
          "base_uri": "https://localhost:8080/",
          "height": 289
        }
      },
      "source": [
        "afficher(ps1)\n",
        "afficher(pf1)"
      ],
      "execution_count": 0,
      "outputs": [
        {
          "output_type": "stream",
          "text": [
            "   0  1  2  3  4  5  6\n",
            "0        1  1  1      \n",
            "1        1  1  1      \n",
            "2  1  1  1  1  1  1  1\n",
            "3  1  1  1  0  1  1  1\n",
            "4  1  1  1  1  1  1  1\n",
            "5        1  1  1      \n",
            "6        1  1  1      \n",
            "   0  1  2  3  4  5  6\n",
            "0        1  1  1      \n",
            "1        1  1  1      \n",
            "2  1  1  1  1  1  1  1\n",
            "3  1  1  1  1  0  1  1\n",
            "4  1  1  1  1  1  0  1\n",
            "5        1  0  0      \n",
            "6        0  0  0      \n"
          ],
          "name": "stdout"
        }
      ]
    },
    {
      "cell_type": "code",
      "metadata": {
        "id": "kNUVKQhqBsag",
        "colab_type": "code",
        "outputId": "d5f6a1f4-c387-410a-e883-e8583b1af58e",
        "colab": {
          "base_uri": "https://localhost:8080/",
          "height": 1258
        }
      },
      "source": [
        "\n",
        "nbusejump=np.zeros(A.shape[1])\n",
        "#direction 1 is down, 2 is up, 3 is est , 4 is west\n",
        "solvprog(ps1,pf1,j,A,[],upper,nbusejump,[])"
      ],
      "execution_count": 0,
      "outputs": [
        {
          "output_type": "stream",
          "text": [
            "path from (5, 3) direction  2\n",
            "   0  1  2  3  4  5  6\n",
            "0        1  1  1      \n",
            "1        1  1  1      \n",
            "2  1  1  1  1  1  1  1\n",
            "3  1  1  1  1  1  1  1\n",
            "4  1  1  1  0  1  1  1\n",
            "5        1  0  1      \n",
            "6        1  1  1      \n",
            "[[28, 2]]\n",
            "path from (4, 5) direction  4\n",
            "   0  1  2  3  4  5  6\n",
            "0        1  1  1      \n",
            "1        1  1  1      \n",
            "2  1  1  1  1  1  1  1\n",
            "3  1  1  1  1  1  1  1\n",
            "4  1  1  1  1  0  0  1\n",
            "5        1  0  1      \n",
            "6        1  1  1      \n",
            "[[28, 2], [25, 4]]\n",
            "path from (6, 4) direction  2\n",
            "   0  1  2  3  4  5  6\n",
            "0        1  1  1      \n",
            "1        1  1  1      \n",
            "2  1  1  1  1  1  1  1\n",
            "3  1  1  1  1  1  1  1\n",
            "4  1  1  1  1  1  0  1\n",
            "5        1  0  0      \n",
            "6        1  1  0      \n",
            "[[28, 2], [25, 4], [32, 2]]\n",
            "path from (3, 4) direction  1\n",
            "   0  1  2  3  4  5  6\n",
            "0        1  1  1      \n",
            "1        1  1  1      \n",
            "2  1  1  1  1  1  1  1\n",
            "3  1  1  1  1  0  1  1\n",
            "4  1  1  1  1  0  0  1\n",
            "5        1  0  1      \n",
            "6        1  1  0      \n",
            "[[28, 2], [25, 4], [32, 2], [17, 1]]\n",
            "path from (6, 2) direction  3\n",
            "   0  1  2  3  4  5  6\n",
            "0        1  1  1      \n",
            "1        1  1  1      \n",
            "2  1  1  1  1  1  1  1\n",
            "3  1  1  1  1  0  1  1\n",
            "4  1  1  1  1  0  0  1\n",
            "5        1  0  1      \n",
            "6        0  0  1      \n",
            "[[28, 2], [25, 4], [32, 2], [17, 1], [30, 3]]\n",
            "path from (6, 4) direction  2\n",
            "   0  1  2  3  4  5  6\n",
            "0        1  1  1      \n",
            "1        1  1  1      \n",
            "2  1  1  1  1  1  1  1\n",
            "3  1  1  1  1  0  1  1\n",
            "4  1  1  1  1  1  0  1\n",
            "5        1  0  0      \n",
            "6        0  0  0      \n",
            "[[28, 2], [25, 4], [32, 2], [17, 1], [30, 3], [32, 2]]\n",
            "   0  1  2  3  4  5  6\n",
            "0        1  1  1      \n",
            "1        1  1  1      \n",
            "2  1  1  1  1  1  1  1\n",
            "3  1  1  1  1  0  1  1\n",
            "4  1  1  1  1  1  0  1\n",
            "5        1  0  0      \n",
            "6        0  0  0      \n",
            "The problem is solvable and the path is\n",
            "[[28, 2], [25, 4], [32, 2], [17, 1], [30, 3], [32, 2]]\n",
            "The length of the path is :\n",
            "6\n"
          ],
          "name": "stdout"
        },
        {
          "output_type": "execute_result",
          "data": {
            "text/plain": [
              "True"
            ]
          },
          "metadata": {
            "tags": []
          },
          "execution_count": 31
        }
      ]
    }
  ]
}